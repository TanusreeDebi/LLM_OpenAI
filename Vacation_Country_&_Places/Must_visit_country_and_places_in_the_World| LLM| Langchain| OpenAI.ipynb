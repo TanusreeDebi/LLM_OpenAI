{
 "cells": [
  {
   "cell_type": "code",
   "execution_count": 2,
   "metadata": {},
   "outputs": [],
   "source": [
    "from langchain_openai.llms import OpenAI\n",
    "from langchain.prompts import PromptTemplate\n",
    "from langchain.chains import LLMChain\n",
    "from langchain.chains import SimpleSequentialChain\n",
    "from langchain.chains import SequentialChain"
   ]
  },
  {
   "cell_type": "code",
   "execution_count": 3,
   "metadata": {},
   "outputs": [],
   "source": [
    "llm = OpenAI(openai_api_key=\"***\", temperature=0.6)"
   ]
  },
  {
   "cell_type": "code",
   "execution_count": 35,
   "metadata": {},
   "outputs": [],
   "source": [
    "name=llm.invoke(\"I want to visit different countries in the world. Suggest me only one must visit country name in the world\")"
   ]
  },
  {
   "cell_type": "code",
   "execution_count": 36,
   "metadata": {},
   "outputs": [
    {
     "name": "stdout",
     "output_type": "stream",
     "text": [
      "\n",
      "\n",
      "Iceland. \n",
      "\n",
      "Iceland is a unique and diverse country, known for its stunning natural landscapes, including volcanoes, glaciers, and hot springs. It is also home to the famous Northern Lights, making it a popular destination for travelers looking to witness this natural phenomenon. In addition, Iceland offers a rich culture and history, with quaint towns and villages, delicious cuisine, and friendly locals. It is also a great place for outdoor activities such as hiking, whale watching, and exploring ice caves. Overall, Iceland has something for everyone and is a must-visit destination for any traveler.\n"
     ]
    }
   ],
   "source": [
    "print(name)"
   ]
  },
  {
   "cell_type": "code",
   "execution_count": 40,
   "metadata": {},
   "outputs": [
    {
     "data": {
      "text/plain": [
       "'I want to visit different countries in the Europe. Suggest me only one must visit country name.'"
      ]
     },
     "execution_count": 40,
     "metadata": {},
     "output_type": "execute_result"
    }
   ],
   "source": [
    "from langchain.prompts import PromptTemplate\n",
    "\n",
    "prompt_template_name = PromptTemplate(input_variables=['continent'],\n",
    "                                      template=\"I want to visit different countries in the {continent}. Suggest me only one must visit country name.\"\n",
    "                                     )\n",
    "prompt_template_name.format(continent='Europe')"
   ]
  },
  {
   "cell_type": "code",
   "execution_count": 41,
   "metadata": {},
   "outputs": [
    {
     "data": {
      "text/plain": [
       "{'continent': 'Europe',\n",
       " 'text': '\\n\\nIt is difficult to choose just one \"must visit\" country in Europe as each country has its own unique culture, history, and attractions. However, one country that is often recommended as a must-visit is Italy. Known for its stunning art and architecture, delicious food, and beautiful landscapes, Italy offers something for everyone. From the iconic city of Rome to the charming canals of Venice, the picturesque Amalfi Coast, and the historic ruins of Pompeii, there is no shortage of things to see and do in Italy.'}"
      ]
     },
     "execution_count": 41,
     "metadata": {},
     "output_type": "execute_result"
    }
   ],
   "source": [
    "from langchain.chains import LLMChain\n",
    "\n",
    "chain=LLMChain(llm=llm,prompt=prompt_template_name)\n",
    "chain.invoke(\"Europe\")"
   ]
  },
  {
   "cell_type": "code",
   "execution_count": 42,
   "metadata": {},
   "outputs": [],
   "source": [
    "\n",
    "\n",
    "llm = OpenAI(openai_api_key=\"***\", temperature=0.6)\n",
    "prompt_template_name = PromptTemplate(input_variables=['continent'],\n",
    "                                      template=\"I want to visit different countries in the {continent}. Suggest me only one must visit country name.\"\n",
    "                                     )\n",
    "name_chain=LLMChain(llm=llm,prompt=prompt_template_name)\n",
    "\n",
    "prompt_template_items = PromptTemplate(input_variables=['country'],\n",
    "                                      template=\"Suggest most popular places in {country}.Return it as a comma space\"\n",
    "                                     )\n",
    "food_item_chain=LLMChain(llm=llm,prompt=prompt_template_items)\n"
   ]
  },
  {
   "cell_type": "code",
   "execution_count": 48,
   "metadata": {},
   "outputs": [
    {
     "name": "stdout",
     "output_type": "stream",
     "text": [
      "{'input': 'South America', 'output': ' separated string\\n\\nMachu Picchu, Amazon rainforest, Lima, Cusco, Arequipa, Lake Titicaca, Sacred Valley, Nazca Lines, Iquitos, Huacachina'}\n"
     ]
    }
   ],
   "source": [
    "from langchain.chains import SimpleSequentialChain\n",
    "\n",
    "chain=SimpleSequentialChain(chains=[name_chain,food_item_chain])\n",
    "response=chain.invoke(\"South America\")\n",
    "print(response)"
   ]
  },
  {
   "cell_type": "code",
   "execution_count": 49,
   "metadata": {},
   "outputs": [],
   "source": [
    "\n",
    "\n",
    "llm = OpenAI(openai_api_key=\"***\", temperature=0.6)\n",
    "prompt_template_name = PromptTemplate(input_variables=['continent'],\n",
    "                                      template=\"I want to visit different countries in the {continent}. Suggest me only one must visit country name.\"\n",
    "                                     )\n",
    "name_chain=LLMChain(llm=llm,prompt=prompt_template_name,output_key=\"country\")\n",
    "\n",
    "prompt_template_items = PromptTemplate(input_variables=['country'],\n",
    "                                      template=\"Suggest most popular places in {country}.Return it as a comma space\"\n",
    "                                     )\n",
    "food_item_chain=LLMChain(llm=llm,prompt=prompt_template_items,output_key=\"Places\")\n"
   ]
  },
  {
   "cell_type": "code",
   "execution_count": 50,
   "metadata": {},
   "outputs": [
    {
     "data": {
      "text/plain": [
       "{'continent': 'Europe',\n",
       " 'country': '\\n\\nIt is difficult to choose just one must-visit country in Europe as each country offers unique experiences and attractions. However, if I had to choose, I would recommend visiting Italy. It is known for its rich history, delicious cuisine, stunning architecture, and beautiful landscapes. From the ancient ruins of Rome to the romantic canals of Venice, the picturesque coastline of the Amalfi Coast to the rolling hills of Tuscany, there is something for everyone in Italy. Plus, the people are warm and welcoming, making it a memorable destination for any traveler.',\n",
       " 'Places': ' separated string\\n\\nRome, Venice, Amalfi Coast, Tuscany'}"
      ]
     },
     "execution_count": 50,
     "metadata": {},
     "output_type": "execute_result"
    }
   ],
   "source": [
    "from langchain.chains import SequentialChain\n",
    "\n",
    "chain=SequentialChain(\n",
    "    chains=[name_chain,food_item_chain],\n",
    "    input_variables=['continent'],\n",
    "    output_variables=[\"country\",\"Places\"]\n",
    "    \n",
    ")\n",
    "chain.invoke({'continent':'Europe'})"
   ]
  },
  {
   "cell_type": "code",
   "execution_count": null,
   "metadata": {},
   "outputs": [],
   "source": []
  }
 ],
 "metadata": {
  "kernelspec": {
   "display_name": "Python 3",
   "language": "python",
   "name": "python3"
  },
  "language_info": {
   "codemirror_mode": {
    "name": "ipython",
    "version": 3
   },
   "file_extension": ".py",
   "mimetype": "text/x-python",
   "name": "python",
   "nbconvert_exporter": "python",
   "pygments_lexer": "ipython3",
   "version": "3.8.5"
  }
 },
 "nbformat": 4,
 "nbformat_minor": 4
}
